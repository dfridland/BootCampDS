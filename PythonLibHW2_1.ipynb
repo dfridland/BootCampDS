{
 "cells": [
  {
   "cell_type": "code",
   "execution_count": 86,
   "id": "11250e7f-dec5-4363-80cb-69b5c779cf35",
   "metadata": {},
   "outputs": [
    {
     "data": {
      "text/plain": [
       "Index(['Id', 'MSSubClass', 'MSZoning', 'LotFrontage', 'LotArea', 'Street',\n",
       "       'Alley', 'LotShape', 'LandContour', 'Utilities', 'LotConfig',\n",
       "       'LandSlope', 'Neighborhood', 'Condition1', 'Condition2', 'BldgType',\n",
       "       'HouseStyle', 'OverallQual', 'OverallCond', 'YearBuilt', 'YearRemodAdd',\n",
       "       'RoofStyle', 'RoofMatl', 'Exterior1st', 'Exterior2nd', 'MasVnrType',\n",
       "       'MasVnrArea', 'ExterQual', 'ExterCond', 'Foundation', 'BsmtQual',\n",
       "       'BsmtCond', 'BsmtExposure', 'BsmtFinType1', 'BsmtFinSF1',\n",
       "       'BsmtFinType2', 'BsmtFinSF2', 'BsmtUnfSF', 'TotalBsmtSF', 'Heating',\n",
       "       'HeatingQC', 'CentralAir', 'Electrical', '1stFlrSF', '2ndFlrSF',\n",
       "       'LowQualFinSF', 'GrLivArea', 'BsmtFullBath', 'BsmtHalfBath', 'FullBath',\n",
       "       'HalfBath', 'BedroomAbvGr', 'KitchenAbvGr', 'KitchenQual',\n",
       "       'TotRmsAbvGrd', 'Functional', 'Fireplaces', 'FireplaceQu', 'GarageType',\n",
       "       'GarageYrBlt', 'GarageFinish', 'GarageCars', 'GarageArea', 'GarageQual',\n",
       "       'GarageCond', 'PavedDrive', 'WoodDeckSF', 'OpenPorchSF',\n",
       "       'EnclosedPorch', '3SsnPorch', 'ScreenPorch', 'PoolArea', 'PoolQC',\n",
       "       'Fence', 'MiscFeature', 'MiscVal', 'MoSold', 'YrSold', 'SaleType',\n",
       "       'SaleCondition', 'SalePrice'],\n",
       "      dtype='object')"
      ]
     },
     "execution_count": 86,
     "metadata": {},
     "output_type": "execute_result"
    }
   ],
   "source": [
    "\n",
    "# Path of the file to read\n",
    "iowa_file_path = 'train-2.csv'\n",
    "\n",
    "home_data = pd.read_csv(iowa_file_path)\n",
    "home_data.columns"
   ]
  },
  {
   "cell_type": "code",
   "execution_count": 45,
   "id": "f3f351e8-1547-4f0a-b551-a55965b375d9",
   "metadata": {},
   "outputs": [],
   "source": [
    "home_data = home_data.dropna(axis=0)"
   ]
  },
  {
   "cell_type": "code",
   "execution_count": 46,
   "id": "2ec05f45-136c-4ab1-bd06-c641f1afac68",
   "metadata": {},
   "outputs": [],
   "source": [
    "y = home_data.SalePrice"
   ]
  },
  {
   "cell_type": "code",
   "execution_count": 47,
   "id": "aa8c0648-331e-42b1-a793-e9efd56d89b9",
   "metadata": {},
   "outputs": [],
   "source": [
    "feature_names = ['LotArea', 'YearBuilt', '1stFlrSF', '2ndFlrSF', 'FullBath', 'BedroomAbvGr', 'TotRmsAbvGrd']"
   ]
  },
  {
   "cell_type": "code",
   "execution_count": 48,
   "id": "80945703-062c-4ef6-abe7-cff8308b5549",
   "metadata": {},
   "outputs": [],
   "source": [
    "X = home_data[feature_names]"
   ]
  },
  {
   "cell_type": "code",
   "execution_count": 49,
   "id": "d0f07b10-6824-44ff-8d3d-c946d029469c",
   "metadata": {},
   "outputs": [
    {
     "data": {
      "text/html": [
       "<div>\n",
       "<style scoped>\n",
       "    .dataframe tbody tr th:only-of-type {\n",
       "        vertical-align: middle;\n",
       "    }\n",
       "\n",
       "    .dataframe tbody tr th {\n",
       "        vertical-align: top;\n",
       "    }\n",
       "\n",
       "    .dataframe thead th {\n",
       "        text-align: right;\n",
       "    }\n",
       "</style>\n",
       "<table border=\"1\" class=\"dataframe\">\n",
       "  <thead>\n",
       "    <tr style=\"text-align: right;\">\n",
       "      <th></th>\n",
       "      <th>LotArea</th>\n",
       "      <th>YearBuilt</th>\n",
       "      <th>1stFlrSF</th>\n",
       "      <th>2ndFlrSF</th>\n",
       "      <th>FullBath</th>\n",
       "      <th>BedroomAbvGr</th>\n",
       "      <th>TotRmsAbvGrd</th>\n",
       "    </tr>\n",
       "  </thead>\n",
       "  <tbody>\n",
       "    <tr>\n",
       "      <th>count</th>\n",
       "      <td>0.0</td>\n",
       "      <td>0.0</td>\n",
       "      <td>0.0</td>\n",
       "      <td>0.0</td>\n",
       "      <td>0.0</td>\n",
       "      <td>0.0</td>\n",
       "      <td>0.0</td>\n",
       "    </tr>\n",
       "    <tr>\n",
       "      <th>mean</th>\n",
       "      <td>NaN</td>\n",
       "      <td>NaN</td>\n",
       "      <td>NaN</td>\n",
       "      <td>NaN</td>\n",
       "      <td>NaN</td>\n",
       "      <td>NaN</td>\n",
       "      <td>NaN</td>\n",
       "    </tr>\n",
       "    <tr>\n",
       "      <th>std</th>\n",
       "      <td>NaN</td>\n",
       "      <td>NaN</td>\n",
       "      <td>NaN</td>\n",
       "      <td>NaN</td>\n",
       "      <td>NaN</td>\n",
       "      <td>NaN</td>\n",
       "      <td>NaN</td>\n",
       "    </tr>\n",
       "    <tr>\n",
       "      <th>min</th>\n",
       "      <td>NaN</td>\n",
       "      <td>NaN</td>\n",
       "      <td>NaN</td>\n",
       "      <td>NaN</td>\n",
       "      <td>NaN</td>\n",
       "      <td>NaN</td>\n",
       "      <td>NaN</td>\n",
       "    </tr>\n",
       "    <tr>\n",
       "      <th>25%</th>\n",
       "      <td>NaN</td>\n",
       "      <td>NaN</td>\n",
       "      <td>NaN</td>\n",
       "      <td>NaN</td>\n",
       "      <td>NaN</td>\n",
       "      <td>NaN</td>\n",
       "      <td>NaN</td>\n",
       "    </tr>\n",
       "    <tr>\n",
       "      <th>50%</th>\n",
       "      <td>NaN</td>\n",
       "      <td>NaN</td>\n",
       "      <td>NaN</td>\n",
       "      <td>NaN</td>\n",
       "      <td>NaN</td>\n",
       "      <td>NaN</td>\n",
       "      <td>NaN</td>\n",
       "    </tr>\n",
       "    <tr>\n",
       "      <th>75%</th>\n",
       "      <td>NaN</td>\n",
       "      <td>NaN</td>\n",
       "      <td>NaN</td>\n",
       "      <td>NaN</td>\n",
       "      <td>NaN</td>\n",
       "      <td>NaN</td>\n",
       "      <td>NaN</td>\n",
       "    </tr>\n",
       "    <tr>\n",
       "      <th>max</th>\n",
       "      <td>NaN</td>\n",
       "      <td>NaN</td>\n",
       "      <td>NaN</td>\n",
       "      <td>NaN</td>\n",
       "      <td>NaN</td>\n",
       "      <td>NaN</td>\n",
       "      <td>NaN</td>\n",
       "    </tr>\n",
       "  </tbody>\n",
       "</table>\n",
       "</div>"
      ],
      "text/plain": [
       "       LotArea  YearBuilt  1stFlrSF  2ndFlrSF  FullBath  BedroomAbvGr  \\\n",
       "count      0.0        0.0       0.0       0.0       0.0           0.0   \n",
       "mean       NaN        NaN       NaN       NaN       NaN           NaN   \n",
       "std        NaN        NaN       NaN       NaN       NaN           NaN   \n",
       "min        NaN        NaN       NaN       NaN       NaN           NaN   \n",
       "25%        NaN        NaN       NaN       NaN       NaN           NaN   \n",
       "50%        NaN        NaN       NaN       NaN       NaN           NaN   \n",
       "75%        NaN        NaN       NaN       NaN       NaN           NaN   \n",
       "max        NaN        NaN       NaN       NaN       NaN           NaN   \n",
       "\n",
       "       TotRmsAbvGrd  \n",
       "count           0.0  \n",
       "mean            NaN  \n",
       "std             NaN  \n",
       "min             NaN  \n",
       "25%             NaN  \n",
       "50%             NaN  \n",
       "75%             NaN  \n",
       "max             NaN  "
      ]
     },
     "execution_count": 49,
     "metadata": {},
     "output_type": "execute_result"
    }
   ],
   "source": [
    "X.describe()"
   ]
  },
  {
   "cell_type": "code",
   "execution_count": 50,
   "id": "a3f2e3e2-fff0-4e6e-b10b-bcddca4d42f2",
   "metadata": {},
   "outputs": [
    {
     "data": {
      "text/html": [
       "<div>\n",
       "<style scoped>\n",
       "    .dataframe tbody tr th:only-of-type {\n",
       "        vertical-align: middle;\n",
       "    }\n",
       "\n",
       "    .dataframe tbody tr th {\n",
       "        vertical-align: top;\n",
       "    }\n",
       "\n",
       "    .dataframe thead th {\n",
       "        text-align: right;\n",
       "    }\n",
       "</style>\n",
       "<table border=\"1\" class=\"dataframe\">\n",
       "  <thead>\n",
       "    <tr style=\"text-align: right;\">\n",
       "      <th></th>\n",
       "      <th>LotArea</th>\n",
       "      <th>YearBuilt</th>\n",
       "      <th>1stFlrSF</th>\n",
       "      <th>2ndFlrSF</th>\n",
       "      <th>FullBath</th>\n",
       "      <th>BedroomAbvGr</th>\n",
       "      <th>TotRmsAbvGrd</th>\n",
       "    </tr>\n",
       "  </thead>\n",
       "  <tbody>\n",
       "  </tbody>\n",
       "</table>\n",
       "</div>"
      ],
      "text/plain": [
       "Empty DataFrame\n",
       "Columns: [LotArea, YearBuilt, 1stFlrSF, 2ndFlrSF, FullBath, BedroomAbvGr, TotRmsAbvGrd]\n",
       "Index: []"
      ]
     },
     "execution_count": 50,
     "metadata": {},
     "output_type": "execute_result"
    }
   ],
   "source": [
    "X.head()"
   ]
  },
  {
   "cell_type": "code",
   "execution_count": 51,
   "id": "d273514f-b987-4fba-a894-01151111392e",
   "metadata": {},
   "outputs": [
    {
     "data": {
      "text/html": [
       "<div>\n",
       "<style scoped>\n",
       "    .dataframe tbody tr th:only-of-type {\n",
       "        vertical-align: middle;\n",
       "    }\n",
       "\n",
       "    .dataframe tbody tr th {\n",
       "        vertical-align: top;\n",
       "    }\n",
       "\n",
       "    .dataframe thead th {\n",
       "        text-align: right;\n",
       "    }\n",
       "</style>\n",
       "<table border=\"1\" class=\"dataframe\">\n",
       "  <thead>\n",
       "    <tr style=\"text-align: right;\">\n",
       "      <th></th>\n",
       "      <th>LotArea</th>\n",
       "      <th>YearBuilt</th>\n",
       "      <th>1stFlrSF</th>\n",
       "      <th>2ndFlrSF</th>\n",
       "      <th>FullBath</th>\n",
       "      <th>BedroomAbvGr</th>\n",
       "      <th>TotRmsAbvGrd</th>\n",
       "    </tr>\n",
       "  </thead>\n",
       "  <tbody>\n",
       "    <tr>\n",
       "      <th>LotArea</th>\n",
       "      <td>NaN</td>\n",
       "      <td>NaN</td>\n",
       "      <td>NaN</td>\n",
       "      <td>NaN</td>\n",
       "      <td>NaN</td>\n",
       "      <td>NaN</td>\n",
       "      <td>NaN</td>\n",
       "    </tr>\n",
       "    <tr>\n",
       "      <th>YearBuilt</th>\n",
       "      <td>NaN</td>\n",
       "      <td>NaN</td>\n",
       "      <td>NaN</td>\n",
       "      <td>NaN</td>\n",
       "      <td>NaN</td>\n",
       "      <td>NaN</td>\n",
       "      <td>NaN</td>\n",
       "    </tr>\n",
       "    <tr>\n",
       "      <th>1stFlrSF</th>\n",
       "      <td>NaN</td>\n",
       "      <td>NaN</td>\n",
       "      <td>NaN</td>\n",
       "      <td>NaN</td>\n",
       "      <td>NaN</td>\n",
       "      <td>NaN</td>\n",
       "      <td>NaN</td>\n",
       "    </tr>\n",
       "    <tr>\n",
       "      <th>2ndFlrSF</th>\n",
       "      <td>NaN</td>\n",
       "      <td>NaN</td>\n",
       "      <td>NaN</td>\n",
       "      <td>NaN</td>\n",
       "      <td>NaN</td>\n",
       "      <td>NaN</td>\n",
       "      <td>NaN</td>\n",
       "    </tr>\n",
       "    <tr>\n",
       "      <th>FullBath</th>\n",
       "      <td>NaN</td>\n",
       "      <td>NaN</td>\n",
       "      <td>NaN</td>\n",
       "      <td>NaN</td>\n",
       "      <td>NaN</td>\n",
       "      <td>NaN</td>\n",
       "      <td>NaN</td>\n",
       "    </tr>\n",
       "    <tr>\n",
       "      <th>BedroomAbvGr</th>\n",
       "      <td>NaN</td>\n",
       "      <td>NaN</td>\n",
       "      <td>NaN</td>\n",
       "      <td>NaN</td>\n",
       "      <td>NaN</td>\n",
       "      <td>NaN</td>\n",
       "      <td>NaN</td>\n",
       "    </tr>\n",
       "    <tr>\n",
       "      <th>TotRmsAbvGrd</th>\n",
       "      <td>NaN</td>\n",
       "      <td>NaN</td>\n",
       "      <td>NaN</td>\n",
       "      <td>NaN</td>\n",
       "      <td>NaN</td>\n",
       "      <td>NaN</td>\n",
       "      <td>NaN</td>\n",
       "    </tr>\n",
       "  </tbody>\n",
       "</table>\n",
       "</div>"
      ],
      "text/plain": [
       "              LotArea  YearBuilt  1stFlrSF  2ndFlrSF  FullBath  BedroomAbvGr  \\\n",
       "LotArea           NaN        NaN       NaN       NaN       NaN           NaN   \n",
       "YearBuilt         NaN        NaN       NaN       NaN       NaN           NaN   \n",
       "1stFlrSF          NaN        NaN       NaN       NaN       NaN           NaN   \n",
       "2ndFlrSF          NaN        NaN       NaN       NaN       NaN           NaN   \n",
       "FullBath          NaN        NaN       NaN       NaN       NaN           NaN   \n",
       "BedroomAbvGr      NaN        NaN       NaN       NaN       NaN           NaN   \n",
       "TotRmsAbvGrd      NaN        NaN       NaN       NaN       NaN           NaN   \n",
       "\n",
       "              TotRmsAbvGrd  \n",
       "LotArea                NaN  \n",
       "YearBuilt              NaN  \n",
       "1stFlrSF               NaN  \n",
       "2ndFlrSF               NaN  \n",
       "FullBath               NaN  \n",
       "BedroomAbvGr           NaN  \n",
       "TotRmsAbvGrd           NaN  "
      ]
     },
     "execution_count": 51,
     "metadata": {},
     "output_type": "execute_result"
    }
   ],
   "source": [
    "X.corr()"
   ]
  },
  {
   "cell_type": "code",
   "execution_count": 52,
   "id": "12e534fd-42dc-45a7-96d7-853c678701fd",
   "metadata": {},
   "outputs": [
    {
     "data": {
      "text/plain": [
       "0"
      ]
     },
     "execution_count": 52,
     "metadata": {},
     "output_type": "execute_result"
    }
   ],
   "source": [
    "home_data.duplicated().sum()"
   ]
  },
  {
   "cell_type": "code",
   "execution_count": 53,
   "id": "abc6c2d7-bf94-421d-8714-ba6a4c6d4647",
   "metadata": {},
   "outputs": [
    {
     "data": {
      "text/plain": [
       "Id               0.0\n",
       "MSSubClass       0.0\n",
       "MSZoning         0.0\n",
       "LotFrontage      0.0\n",
       "LotArea          0.0\n",
       "                ... \n",
       "MoSold           0.0\n",
       "YrSold           0.0\n",
       "SaleType         0.0\n",
       "SaleCondition    0.0\n",
       "SalePrice        0.0\n",
       "Length: 81, dtype: float64"
      ]
     },
     "execution_count": 53,
     "metadata": {},
     "output_type": "execute_result"
    }
   ],
   "source": [
    "home_data.isnull().sum()"
   ]
  },
  {
   "cell_type": "code",
   "execution_count": 54,
   "id": "d06d4bab-1ffa-4ea6-8287-9579dfa0cb90",
   "metadata": {},
   "outputs": [
    {
     "data": {
      "text/plain": [
       "array([], dtype=int64)"
      ]
     },
     "execution_count": 54,
     "metadata": {},
     "output_type": "execute_result"
    }
   ],
   "source": [
    "home_data['FullBath'].unique()"
   ]
  },
  {
   "cell_type": "code",
   "execution_count": 55,
   "id": "9da7767c-f881-45b6-8c83-335a12d57cdd",
   "metadata": {},
   "outputs": [
    {
     "data": {
      "text/plain": [
       "array([], dtype=int64)"
      ]
     },
     "execution_count": 55,
     "metadata": {},
     "output_type": "execute_result"
    }
   ],
   "source": [
    "home_data['BedroomAbvGr'].unique()"
   ]
  },
  {
   "cell_type": "code",
   "execution_count": 56,
   "id": "cb8fe0e3-b91b-4615-ab60-1d0e586767a6",
   "metadata": {},
   "outputs": [
    {
     "data": {
      "text/plain": [
       "array([], dtype=int64)"
      ]
     },
     "execution_count": 56,
     "metadata": {},
     "output_type": "execute_result"
    }
   ],
   "source": [
    "home_data['TotRmsAbvGrd'].unique()"
   ]
  },
  {
   "cell_type": "code",
   "execution_count": 57,
   "id": "546df86b-50f7-43a8-ae49-0c9523d2dd5b",
   "metadata": {},
   "outputs": [
    {
     "data": {
      "text/plain": [
       "array([], dtype=int64)"
      ]
     },
     "execution_count": 57,
     "metadata": {},
     "output_type": "execute_result"
    }
   ],
   "source": [
    "home_data['YearBuilt'].unique()"
   ]
  },
  {
   "cell_type": "code",
   "execution_count": 58,
   "id": "606fab3a-27ba-4c88-9e36-554ade009a1c",
   "metadata": {},
   "outputs": [
    {
     "data": {
      "text/plain": [
       "array([], dtype=int64)"
      ]
     },
     "execution_count": 58,
     "metadata": {},
     "output_type": "execute_result"
    }
   ],
   "source": [
    "home_data['LotArea'].unique()"
   ]
  },
  {
   "cell_type": "code",
   "execution_count": 59,
   "id": "85d008c1-c097-484c-81d8-193eaf6a5836",
   "metadata": {},
   "outputs": [
    {
     "data": {
      "text/plain": [
       "nan"
      ]
     },
     "execution_count": 59,
     "metadata": {},
     "output_type": "execute_result"
    }
   ],
   "source": [
    "home_data['LotArea'].max()"
   ]
  },
  {
   "cell_type": "code",
   "execution_count": 60,
   "id": "ec6f3ede-a6c0-4b66-baab-39c15a0a95e2",
   "metadata": {},
   "outputs": [
    {
     "data": {
      "text/html": [
       "<div>\n",
       "<style scoped>\n",
       "    .dataframe tbody tr th:only-of-type {\n",
       "        vertical-align: middle;\n",
       "    }\n",
       "\n",
       "    .dataframe tbody tr th {\n",
       "        vertical-align: top;\n",
       "    }\n",
       "\n",
       "    .dataframe thead th {\n",
       "        text-align: right;\n",
       "    }\n",
       "</style>\n",
       "<table border=\"1\" class=\"dataframe\">\n",
       "  <thead>\n",
       "    <tr style=\"text-align: right;\">\n",
       "      <th></th>\n",
       "      <th>YearBuilt</th>\n",
       "      <th>FullBath</th>\n",
       "      <th>BedroomAbvGr</th>\n",
       "    </tr>\n",
       "  </thead>\n",
       "  <tbody>\n",
       "  </tbody>\n",
       "</table>\n",
       "</div>"
      ],
      "text/plain": [
       "Empty DataFrame\n",
       "Columns: [YearBuilt, FullBath, BedroomAbvGr]\n",
       "Index: []"
      ]
     },
     "execution_count": 60,
     "metadata": {},
     "output_type": "execute_result"
    }
   ],
   "source": [
    "home_data[home_data['LotArea'] > 150000][['YearBuilt', 'FullBath', 'BedroomAbvGr']].head()"
   ]
  },
  {
   "cell_type": "code",
   "execution_count": 61,
   "id": "9dea898b-a67b-4fad-8a8d-a8a03672b11e",
   "metadata": {},
   "outputs": [],
   "source": [
    "import numpy as np\n"
   ]
  },
  {
   "cell_type": "markdown",
   "id": "5bbf64d8-86bf-4343-a4a6-f6a5e297a47c",
   "metadata": {},
   "source": [
    "1. Find A + B, A - B\n",
    " \n",
    " $\\\\\n",
    "A = \\left(\n",
    "\\begin{array}{cccc}\n",
    "1 & -2 & 4\\\\\n",
    "2 & 0 & -1\\\\\n",
    "\\end{array}\n",
    "\\right), B = \\left(\n",
    "\\begin{array}{cccc}\n",
    "5 & 2 & 3\\\\\n",
    "4 & 6 & 2\\\\\n",
    "\\end{array}\n",
    "\\right)$"
   ]
  },
  {
   "cell_type": "code",
   "execution_count": 67,
   "id": "692ccdf4-0ee0-4712-972c-883b4a0282e7",
   "metadata": {},
   "outputs": [
    {
     "name": "stdout",
     "output_type": "stream",
     "text": [
      "[[6 0 7]\n",
      " [6 6 1]]\n",
      "[[-4 -4  1]\n",
      " [-2 -6 -3]]\n"
     ]
    }
   ],
   "source": [
    "a = np.array([[1, -2, 4],[2, 0, -1]])\n",
    "b = np.array([[5, 2, 3], [4, 6, 2]])\n",
    "print(a + b)\n",
    "print(a - b)"
   ]
  },
  {
   "cell_type": "markdown",
   "id": "d131b3ad-cce5-473d-89e8-25531803c8b0",
   "metadata": {},
   "source": [
    "2.  С = A - 3B\n",
    " \n",
    " $\\\\\n",
    "A = \\left(\n",
    "\\begin{array}{cccc}\n",
    "1 & 2 \\\\\n",
    "2 & -1\\\\\n",
    "3 & 0\\\\\n",
    "\\end{array}\n",
    "\\right), B = \\left(\n",
    "\\begin{array}{cccc}\n",
    "-1 & 1 \\\\\n",
    "1 & 2\\\\\n",
    "0 & 0\\\\\n",
    "\\end{array}\n",
    "\\right)$"
   ]
  },
  {
   "cell_type": "code",
   "execution_count": 70,
   "id": "83a2699e-d180-4d32-881c-cebefefb5a20",
   "metadata": {},
   "outputs": [
    {
     "data": {
      "text/plain": [
       "array([[ 4, -1],\n",
       "       [-1, -7],\n",
       "       [ 3,  0]])"
      ]
     },
     "execution_count": 70,
     "metadata": {},
     "output_type": "execute_result"
    }
   ],
   "source": [
    "a = np.array([[1,2],[2,-1], [3,0]])\n",
    "b = np.array([[-1,1], [1,2],[0,0]])\n",
    "c = a - 3 * b\n",
    "c"
   ]
  },
  {
   "cell_type": "markdown",
   "id": "79c2d121-7db2-4a70-8604-2d5a112e1842",
   "metadata": {},
   "source": [
    "3. С = AB\n",
    " \n",
    " $\\\\\n",
    "A = \\left(\n",
    "\\begin{array}{cccc}\n",
    "1 & -1 \\\\\n",
    "2 & 0\\\\\n",
    "3 & 0\\\\\n",
    "\\end{array}\n",
    "\\right), B = \\left(\n",
    "\\begin{array}{cccc}\n",
    "1 & 1 \\\\\n",
    "2 & 0\\\\\n",
    "\\end{array}\n",
    "\\right)$"
   ]
  },
  {
   "cell_type": "code",
   "execution_count": 72,
   "id": "1ba8204c-d8b7-4a12-ba16-78ca5ca0a4b2",
   "metadata": {},
   "outputs": [
    {
     "data": {
      "text/plain": [
       "array([[-1,  1],\n",
       "       [ 2,  2],\n",
       "       [ 3,  3]])"
      ]
     },
     "execution_count": 72,
     "metadata": {},
     "output_type": "execute_result"
    }
   ],
   "source": [
    "a = np.array([[1, -1], [2, 0], [3, 0]])\n",
    "b = np.array([[1, 1], [2, 0]])\n",
    "a @ b"
   ]
  },
  {
   "cell_type": "markdown",
   "id": "c04de961-df96-43ea-8bdc-fabff61d2c44",
   "metadata": {},
   "source": [
    "4. det of matrix А\n",
    " \n",
    " $\\\\\n",
    "A = \\left(\n",
    "\\begin{array}{cccc}\n",
    "6 & -1 & 4\\\\\n",
    "2 & 1 & 10\\\\\n",
    "8 & 0 & 2\\\\\n",
    "\\end{array}\n",
    "\\right)$"
   ]
  },
  {
   "cell_type": "code",
   "execution_count": 73,
   "id": "04d646af-b18c-427c-8f8e-f8f653ac0d9a",
   "metadata": {},
   "outputs": [
    {
     "data": {
      "text/plain": [
       "-95.99999999999999"
      ]
     },
     "execution_count": 73,
     "metadata": {},
     "output_type": "execute_result"
    }
   ],
   "source": [
    "a = np.array([[6,-1, 4], [2, 1, 10], [8, 0, 2]])\n",
    "np.linalg.det(a)"
   ]
  },
  {
   "cell_type": "markdown",
   "id": "2a2fc987-bae2-4726-8875-2b0f897eca59",
   "metadata": {},
   "source": [
    "5. Find the inverted matrix and show it\n",
    " \n",
    " $\\\\\n",
    "A = \\left(\n",
    "\\begin{array}{cccc}\n",
    "3 & 3 & -1\\\\\n",
    "4 & 1 & 3\\\\\n",
    "1 & -2 & -2\\\\\n",
    "\\end{array}\n",
    "\\right)$"
   ]
  },
  {
   "cell_type": "code",
   "execution_count": 74,
   "id": "4cbbc34e-da0a-4208-89a0-88481d6d4508",
   "metadata": {},
   "outputs": [
    {
     "data": {
      "text/plain": [
       "matrix([[ 0.07407407,  0.14814815,  0.18518519],\n",
       "        [ 0.2037037 , -0.09259259, -0.24074074],\n",
       "        [-0.16666667,  0.16666667, -0.16666667]])"
      ]
     },
     "execution_count": 74,
     "metadata": {},
     "output_type": "execute_result"
    }
   ],
   "source": [
    "a = np.matrix('3 3 -1; 4 1 3; 1 -2 -2')\n",
    "np.linalg.inv(a)"
   ]
  },
  {
   "cell_type": "raw",
   "id": "669576e6-e739-4ab8-85ff-0674d05ce258",
   "metadata": {},
   "source": [
    "or"
   ]
  },
  {
   "cell_type": "code",
   "execution_count": 77,
   "id": "4f5a5e1d-0f6c-4332-9150-db0ff198de1d",
   "metadata": {},
   "outputs": [
    {
     "data": {
      "text/plain": [
       "array([[ 0.07407407,  0.14814815,  0.18518519],\n",
       "       [ 0.2037037 , -0.09259259, -0.24074074],\n",
       "       [-0.16666667,  0.16666667, -0.16666667]])"
      ]
     },
     "execution_count": 77,
     "metadata": {},
     "output_type": "execute_result"
    }
   ],
   "source": [
    "a = np.array([[3,3,-1],[4,1,3], [1,-2,-2]])\n",
    "b = np.linalg.inv(a)\n",
    "b"
   ]
  },
  {
   "cell_type": "code",
   "execution_count": 80,
   "id": "3828e0a0-813a-4694-b1ad-c4448a30e2ec",
   "metadata": {},
   "outputs": [
    {
     "data": {
      "text/plain": [
       "53.999999999999986"
      ]
     },
     "execution_count": 80,
     "metadata": {},
     "output_type": "execute_result"
    }
   ],
   "source": [
    "np.linalg.det(a) "
   ]
  },
  {
   "cell_type": "code",
   "execution_count": null,
   "id": "513c7a33-4285-4d1e-a81c-453d7828b666",
   "metadata": {},
   "outputs": [],
   "source": []
  }
 ],
 "metadata": {
  "kernelspec": {
   "display_name": "Python 3",
   "language": "python",
   "name": "python3"
  },
  "language_info": {
   "codemirror_mode": {
    "name": "ipython",
    "version": 3
   },
   "file_extension": ".py",
   "mimetype": "text/x-python",
   "name": "python",
   "nbconvert_exporter": "python",
   "pygments_lexer": "ipython3",
   "version": "3.8.8"
  }
 },
 "nbformat": 4,
 "nbformat_minor": 5
}
