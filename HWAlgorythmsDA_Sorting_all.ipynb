{
 "cells": [
  {
   "cell_type": "markdown",
   "id": "7833d65c-4c8c-480d-a26e-85aff629ec48",
   "metadata": {},
   "source": [
    "### Binary Search"
   ]
  },
  {
   "cell_type": "code",
   "execution_count": 7,
   "id": "7ee7d7fd-e14c-48ec-9068-36d39b36685d",
   "metadata": {},
   "outputs": [],
   "source": [
    " import timeit"
   ]
  },
  {
   "cell_type": "code",
   "execution_count": 8,
   "id": "8dc49771-eee7-450c-8d23-ecb1b5098791",
   "metadata": {},
   "outputs": [],
   "source": [
    "def binary_search_recursive(array, element, start, end):\n",
    "    if start> end:\n",
    "        return -1\n",
    "    mid = (start + end) // 2 \n",
    "    if element == array[mid]:\n",
    "        return mid\n",
    "    if element < array[mid]:\n",
    "        return binary_search_recursive(array, element, start, mid-1)\n",
    "    else:\n",
    "        return binary_search_recursive(array, element, mid+1, end)\n",
    "    \n",
    "    \n",
    "                                            "
   ]
  },
  {
   "cell_type": "code",
   "execution_count": 9,
   "id": "14646ba2-9e07-4059-bc47-19f446f5c3a8",
   "metadata": {},
   "outputs": [],
   "source": [
    "element = 18\n",
    "array = [1, 2, 5, 7, 13, 15, 16, 18, 24, 28, 29]"
   ]
  },
  {
   "cell_type": "code",
   "execution_count": 10,
   "id": "554578da-a698-4093-aa4b-cb92efd98027",
   "metadata": {},
   "outputs": [
    {
     "name": "stdout",
     "output_type": "stream",
     "text": [
      "Searching for 18\n",
      "Index of 18: 7\n"
     ]
    }
   ],
   "source": [
    "print(\"Searching for {}\".format(element))\n",
    "print(\"Index of {}: {}\".format(element, binary_search_recursive(array, element, 0, len(array))))"
   ]
  },
  {
   "cell_type": "code",
   "execution_count": 11,
   "id": "09e26545-bb74-401d-9513-3079d4908eb4",
   "metadata": {},
   "outputs": [],
   "source": [
    "def binary_search_recursive(array, element, start, end):\n",
    "    if len(array) ==1:\n",
    "        if element == array[mid]:\n",
    "            return mid\n",
    "        else: \n",
    "            return -1\n",
    "    mid = (start + end) // 2 \n",
    "    if element == array[mid]:\n",
    "        return mid\n",
    "    if element < array[mid]:\n",
    "        return binary_search_recursive(array, element, start, mid-1)\n",
    "    else:\n",
    "        return binary_search_recursive(array, element, mid+1, end)                             "
   ]
  },
  {
   "cell_type": "code",
   "execution_count": 12,
   "id": "fcd522d5-b081-463f-a596-ad6b1fddd36c",
   "metadata": {},
   "outputs": [],
   "source": [
    "\n",
    "array = [1, 2, 5, 7, 13, 15, 16, 18, 24, 28, 29]"
   ]
  },
  {
   "cell_type": "code",
   "execution_count": 13,
   "id": "3b5b22e9-39a0-4d5f-bb90-76b49b2e825f",
   "metadata": {},
   "outputs": [
    {
     "name": "stdout",
     "output_type": "stream",
     "text": [
      "Searching for 18\n",
      "Index of 18: 7\n"
     ]
    }
   ],
   "source": [
    "\n",
    "\n",
    "print(\"Searching for {}\".format(element))\n",
    "print(\"Index of {}: {}\".format(element, binary_search_recursive(array, element, 0, len(array))))"
   ]
  },
  {
   "cell_type": "code",
   "execution_count": 14,
   "id": "fd11118e-e46f-425a-a920-719f504e211c",
   "metadata": {},
   "outputs": [],
   "source": [
    "def binary_search_iterative(array, element):\n",
    "    mid = 0\n",
    "    start = 0\n",
    "    end = len(array)\n",
    "    step = 0\n",
    "    \n",
    "    while (start <= end):\n",
    "        print(\"Subarray in step {}: {}\".format(step, str(array[start:end+1])))\n",
    "        step = step+1\n",
    "        mid = (start+end)//2\n",
    "        \n",
    "        if element == array[mid]:\n",
    "            end = mid - 1\n",
    "        elif element < array[mid]:\n",
    "            end = end + 1\n",
    "        else:\n",
    "            start = mid +1\n",
    "    return -1"
   ]
  },
  {
   "cell_type": "code",
   "execution_count": 15,
   "id": "6425c576-2128-4191-b11b-930d71cf26c8",
   "metadata": {},
   "outputs": [
    {
     "name": "stdout",
     "output_type": "stream",
     "text": [
      "Searching for 13\n",
      "Index of 13: 4\n"
     ]
    }
   ],
   "source": [
    "element = 13\n",
    "array = [1, 2, 5, 7, 13, 15, 16, 18, 24, 28, 29]\n",
    "print(\"Searching for {}\".format(element))\n",
    "print(\"Index of {}: {}\".format(element, binary_search_recursive(array, element, 0, len(array))))"
   ]
  },
  {
   "cell_type": "markdown",
   "id": "19ea568b-877a-4aab-8479-7a0836f67cf5",
   "metadata": {},
   "source": [
    "### Buble Sort"
   ]
  },
  {
   "cell_type": "code",
   "execution_count": 16,
   "id": "3435da42-9405-49b0-a3dc-649ee2828293",
   "metadata": {},
   "outputs": [],
   "source": [
    "import random"
   ]
  },
  {
   "cell_type": "code",
   "execution_count": 17,
   "id": "2ab20b31-7828-4c3e-aab0-fe2ec08a4a7b",
   "metadata": {},
   "outputs": [
    {
     "name": "stdout",
     "output_type": "stream",
     "text": [
      "Original Array: [8, 9, 7, 3, 6, 4, 0, 1, 5, 2]\n"
     ]
    }
   ],
   "source": [
    "size = 10\n",
    "array = [i for i in range(size)]\n",
    "random.shuffle(array)\n",
    "print('Original Array: {}'.format(array))"
   ]
  },
  {
   "cell_type": "code",
   "execution_count": 18,
   "id": "e00a2407-9d20-41fb-8260-0562aab66e7d",
   "metadata": {},
   "outputs": [
    {
     "name": "stdout",
     "output_type": "stream",
     "text": [
      "Subbaray 2: [8, 7, 3, 6, 4, 0, 1, 5, 2, 9]\n",
      "Subbaray 3: [7, 3, 6, 4, 0, 1, 5, 2, 8, 9]\n",
      "Subbaray 4: [3, 6, 4, 0, 1, 5, 2, 7, 8, 9]\n",
      "Subbaray 5: [3, 4, 0, 1, 5, 2, 6, 7, 8, 9]\n",
      "Subbaray 6: [3, 0, 1, 4, 2, 5, 6, 7, 8, 9]\n",
      "Subbaray 7: [0, 1, 3, 2, 4, 5, 6, 7, 8, 9]\n",
      "Subbaray 8: [0, 1, 2, 3, 4, 5, 6, 7, 8, 9]\n",
      "Subbaray 9: [0, 1, 2, 3, 4, 5, 6, 7, 8, 9]\n",
      "Subbaray 10: [0, 1, 2, 3, 4, 5, 6, 7, 8, 9]\n",
      "Sorted array: [0, 1, 2, 3, 4, 5, 6, 7, 8, 9]\n"
     ]
    }
   ],
   "source": [
    "n = 1\n",
    "while n < len(array):\n",
    "    for i in range(len(array) - n):\n",
    "        if array[i] > array[i + 1]:\n",
    "            array[i],  array[i + 1] = array[i+1],array[i]\n",
    "    n += 1\n",
    "    print(\"Subbaray {}: {}\".format(n, array))\n",
    "\n",
    "print(\"Sorted array: {}\".format(array))"
   ]
  },
  {
   "cell_type": "code",
   "execution_count": 19,
   "id": "634d8f60-4c45-4fff-9ee9-2d5cf1b41e24",
   "metadata": {},
   "outputs": [
    {
     "name": "stdout",
     "output_type": "stream",
     "text": [
      "Original Array: [4, 6, 9, 1, 5, 7, 0, 3, 8, 2]\n",
      "Sorted array: [0, 1, 2, 3, 4, 5, 6, 7, 8, 9]\n"
     ]
    }
   ],
   "source": [
    "# Bubble sort in Python\n",
    "size = 10\n",
    "array = [i for i in range(size)]\n",
    "random.shuffle(array)\n",
    "print('Original Array: {}'.format(array))\n",
    "def bubbleSort(array):\n",
    "    \n",
    "    \n",
    "    n = 1\n",
    "    while n < len(array):\n",
    "        for i in range(len(array) - n):\n",
    "            if array[i] > array[i + 1]:\n",
    "                array[i],  array[i + 1] = array[i+1],array[i]\n",
    "        n += 1\n",
    "#         print(\"Subbaray {}: {}\".format(n, array))\n",
    "bubbleSort(array)\n",
    "print(\"Sorted array: {}\".format(array))"
   ]
  },
  {
   "cell_type": "code",
   "execution_count": 20,
   "id": "db224661-43ab-43fa-9d5a-76148e39dafe",
   "metadata": {},
   "outputs": [
    {
     "name": "stdout",
     "output_type": "stream",
     "text": [
      "Original Array: [2, 5, 3, 7, 9, 0, 8, 6, 4, 1]\n"
     ]
    }
   ],
   "source": [
    "size = 10\n",
    "array = [i for i in range(size)]\n",
    "random.shuffle(array)\n",
    "print('Original Array: {}'.format(array))"
   ]
  },
  {
   "cell_type": "code",
   "execution_count": 21,
   "id": "345d5520-af4c-4a48-8f7e-4eb0ba24c42c",
   "metadata": {},
   "outputs": [
    {
     "name": "stdout",
     "output_type": "stream",
     "text": [
      "Subbaray 2: [2, 3, 5, 7, 0, 8, 6, 4, 1, 9]\n",
      "Subbaray 3: [2, 3, 5, 0, 7, 6, 4, 1, 8, 9]\n",
      "Subbaray 4: [2, 3, 0, 5, 6, 4, 1, 7, 8, 9]\n",
      "Subbaray 5: [2, 0, 3, 5, 4, 1, 6, 7, 8, 9]\n",
      "Subbaray 6: [0, 2, 3, 4, 1, 5, 6, 7, 8, 9]\n",
      "Subbaray 7: [0, 2, 3, 1, 4, 5, 6, 7, 8, 9]\n",
      "Subbaray 8: [0, 2, 1, 3, 4, 5, 6, 7, 8, 9]\n",
      "Subbaray 9: [0, 1, 2, 3, 4, 5, 6, 7, 8, 9]\n",
      "Subbaray 10: [0, 1, 2, 3, 4, 5, 6, 7, 8, 9]\n",
      "Sorted array: [0, 1, 2, 3, 4, 5, 6, 7, 8, 9]\n"
     ]
    }
   ],
   "source": [
    "# Optimized Bubble sort in Python\n",
    "\n",
    "n = 1\n",
    "swapped = False\n",
    "while n < len(array):\n",
    "    for i in range(len(array) - n):\n",
    "        if array[i] > array[i + 1]:\n",
    "            array[i],  array[i + 1] = array[i+1],array[i]\n",
    "    n += 1\n",
    "    print(\"Subbaray {}: {}\".format(n, array))\n",
    "    swapped = True\n",
    "    if not swapped:\n",
    "           break\n",
    "            \n",
    "print(\"Sorted array: {}\".format(array))"
   ]
  },
  {
   "cell_type": "code",
   "execution_count": 22,
   "id": "6700211a-e1a0-4024-804e-efaeae71cb4c",
   "metadata": {},
   "outputs": [
    {
     "name": "stdout",
     "output_type": "stream",
     "text": [
      "Original Array: [6, 1, 0, 4, 7, 2, 3, 5, 8, 9]\n",
      "Sorted Array in Ascending Order \n",
      "[0, 1, 2, 3, 4, 5, 6, 7, 8, 9]:\n"
     ]
    }
   ],
   "source": [
    "# Optimized Bubble sort in Python\n",
    "\n",
    "size = 10\n",
    "array = [i for i in range(size)]\n",
    "random.shuffle(array)\n",
    "print('Original Array: {}'.format(array))\n",
    "\n",
    "def bubbleSort_Opt(array, size=10):\n",
    "    n = 1\n",
    "    swapped = False\n",
    "    while n < len(array):\n",
    "        for i in range(len(array) - n):\n",
    "            if array[i] > array[i + 1]:\n",
    "                array[i],  array[i + 1] = array[i+1],array[i]\n",
    "        n += 1\n",
    "#         print(\"Subbaray  {}\".format( array))\n",
    "        swapped = True\n",
    "        if not swapped:\n",
    "            break\n",
    " \n",
    "bubbleSort_Opt(array)\n",
    "\n",
    "print('Sorted Array in Ascending Order \\n{}:'.format(array))\n"
   ]
  },
  {
   "cell_type": "code",
   "execution_count": 23,
   "id": "080a06f5-3c05-42da-bb0a-858d2039392a",
   "metadata": {},
   "outputs": [
    {
     "name": "stdout",
     "output_type": "stream",
     "text": [
      "13.5 µs ± 805 ns per loop (mean ± std. dev. of 7 runs, 100000 loops each)\n"
     ]
    }
   ],
   "source": [
    "%%timeit\n",
    "random.shuffle(array)\n",
    "bubbleSort(array)"
   ]
  },
  {
   "cell_type": "code",
   "execution_count": 24,
   "id": "66f08b7a-5ad0-43f0-a739-4bb95c7d2f75",
   "metadata": {},
   "outputs": [
    {
     "name": "stdout",
     "output_type": "stream",
     "text": [
      "13.1 µs ± 55.7 ns per loop (mean ± std. dev. of 7 runs, 100000 loops each)\n"
     ]
    }
   ],
   "source": [
    "%%timeit\n",
    "random.shuffle(array)\n",
    "bubbleSort_Opt(array)"
   ]
  },
  {
   "cell_type": "markdown",
   "id": "3f06e62f-87b0-4e2d-9de7-d2576d051a00",
   "metadata": {},
   "source": [
    "### Selection Sort"
   ]
  },
  {
   "cell_type": "raw",
   "id": "757bfc39-0aa5-48e8-8f3e-786f521fcba9",
   "metadata": {},
   "source": [
    "selectionSort(array, size)\n",
    "  repeat (size - 1) times\n",
    "  set the first unsorted element as the minimum\n",
    "  for each of the unsorted elements\n",
    "    if element < currentMinimum\n",
    "      set element as new minimum\n",
    "  swap minimum with first unsorted position\n",
    "end selectionSort"
   ]
  },
  {
   "cell_type": "code",
   "execution_count": 25,
   "id": "b9fdc841-19bb-4759-beee-af234915a744",
   "metadata": {},
   "outputs": [
    {
     "name": "stdout",
     "output_type": "stream",
     "text": [
      "[4, 8, 7, 2, 0, 1, 5, 3, 6, 9]\n"
     ]
    }
   ],
   "source": [
    "size = 10\n",
    "array = [i for i in range(size)]\n",
    "random.shuffle(array)\n",
    "print(array)"
   ]
  },
  {
   "cell_type": "code",
   "execution_count": 26,
   "id": "f5df3a5a-b3a7-4720-a560-65f90d3e6cbc",
   "metadata": {},
   "outputs": [
    {
     "name": "stdout",
     "output_type": "stream",
     "text": [
      "Original Array: [8, 0, 6, 9, 4, 2, 3, 1, 5, 7]\n",
      "Sorted Array in Ascending Order \n",
      "[0, 1, 2, 3, 4, 5, 6, 7, 8, 9]:\n"
     ]
    }
   ],
   "source": [
    "size = 10\n",
    "array = [i for i in range(size)]\n",
    "random.shuffle(array)\n",
    "print('Original Array: {}'.format(array))\n",
    "def selectionSort(array):\n",
    "    for i in range(len(array)):\n",
    "        idx_min = i\n",
    "        \n",
    "        for j in range(i +1, len(array)):\n",
    "            if array[j] < array[idx_min]:\n",
    "                idx_min = j\n",
    "                \n",
    "        array[idx_min], array[i] = array[i], array[idx_min]\n",
    "#         print(\"Subbaray {}\".format( array))\n",
    "selectionSort(array)\n",
    "print('Sorted Array in Ascending Order \\n{}:'.format(array))\n",
    "\n"
   ]
  },
  {
   "cell_type": "code",
   "execution_count": 27,
   "id": "74b1d979-c4dc-4521-93ea-fbb952041f5a",
   "metadata": {},
   "outputs": [
    {
     "name": "stdout",
     "output_type": "stream",
     "text": [
      "10.6 µs ± 94.8 ns per loop (mean ± std. dev. of 7 runs, 100000 loops each)\n"
     ]
    }
   ],
   "source": [
    "%%timeit\n",
    "random.shuffle(array)\n",
    "selectionSort(array)"
   ]
  },
  {
   "cell_type": "markdown",
   "id": "aa3480f5-ed1b-4547-93ed-19a7de60beb0",
   "metadata": {},
   "source": [
    "### Insertion Sort"
   ]
  },
  {
   "cell_type": "raw",
   "id": "b6cd524d-910e-4422-be61-2485bf39ae7e",
   "metadata": {},
   "source": [
    "insertionSort(array)\n",
    "  mark first element as sorted\n",
    "  for each unsorted element X\n",
    "    'extract' the element X\n",
    "    for j <- lastSortedIndex down to 0\n",
    "      if current element j > X\n",
    "        move sorted element to the right by 1\n",
    "    break loop and insert X here\n",
    "end insertionSort"
   ]
  },
  {
   "cell_type": "code",
   "execution_count": 28,
   "id": "43f07707-21a4-42fe-b596-5a2b0744af4c",
   "metadata": {},
   "outputs": [
    {
     "name": "stdout",
     "output_type": "stream",
     "text": [
      "Original Array: [7, 6, 8, 9, 1, 5, 3, 2, 4, 0]\n",
      "Sorted Array in Ascending Order \n",
      "[0, 1, 2, 3, 4, 5, 6, 7, 8, 9]:\n"
     ]
    }
   ],
   "source": [
    "size = 10\n",
    "array = [i for i in range(size)]\n",
    "random.shuffle(array)\n",
    "print('Original Array: {}'.format(array))\n",
    "\n",
    "def insertionSort(array):\n",
    "     for i in range(len(array)):\n",
    "            spam = array[i]\n",
    "            j = i\n",
    "            while array[j - 1] > spam and j > 0:\n",
    "                array[j] = array[j - 1]\n",
    "                j -= 1\n",
    "            array[j] = spam\n",
    "#             print(\"Subbaray: {}\".format( array))\n",
    "            \n",
    "\n",
    "insertionSort(array)  \n",
    "print('Sorted Array in Ascending Order \\n{}:'.format(array))"
   ]
  },
  {
   "cell_type": "code",
   "execution_count": 29,
   "id": "c8dea8e0-9f05-4a0a-834e-72310dfcdca9",
   "metadata": {},
   "outputs": [
    {
     "name": "stdout",
     "output_type": "stream",
     "text": [
      "8.81 µs ± 90 ns per loop (mean ± std. dev. of 7 runs, 100000 loops each)\n"
     ]
    }
   ],
   "source": [
    "%%timeit\n",
    "random.shuffle(array)\n",
    "insertionSort(array)"
   ]
  },
  {
   "cell_type": "markdown",
   "id": "33760f17-2335-46ba-9e89-60d427e3b60c",
   "metadata": {},
   "source": [
    "### Shell Sort"
   ]
  },
  {
   "cell_type": "code",
   "execution_count": 30,
   "id": "fad0d9f6-bf89-4477-ba14-d17ba0adb24c",
   "metadata": {},
   "outputs": [
    {
     "name": "stdout",
     "output_type": "stream",
     "text": [
      "Original Array: [7, 9, 0, 5, 8, 3, 6, 4, 2, 1]\n",
      "Sorted Array [0, 1, 2, 3, 4, 5, 6, 7, 8, 9]:\n"
     ]
    }
   ],
   "source": [
    "size = 10\n",
    "array = [i for i in range(size)]\n",
    "random.shuffle(array)\n",
    "print('Original Array: {}'.format(array))\n",
    "\n",
    "def shell_sort(array):\n",
    "    assert len(array) < 4000, 'Array is too large, please use other sorting'\n",
    "    def new_increment(array):\n",
    "        inc = [1,4,10,23, 57,132,301, 701, 1750]\n",
    "        while len(array)<=inc[-1]:\n",
    "            inc.pop()\n",
    "        while len(inc) > 0:\n",
    "            yield inc.pop()\n",
    "            \n",
    "    for increment in new_increment(array):\n",
    "        for i in range(increment, len(array)):\n",
    "            for j in range(i, increment - 1, - increment):\n",
    "                if array[j - increment]<= array[j]:\n",
    "                    break\n",
    "                array[j], array[j - increment] = array[j - increment], array[j]\n",
    "#                 print(\"Subbaray {}\".format(array))\n",
    "\n",
    "shell_sort(array)    \n",
    "print('Sorted Array {}:'.format(array))"
   ]
  },
  {
   "cell_type": "code",
   "execution_count": 31,
   "id": "15e462db-eda5-44b9-a2cb-e5dc54cf6be0",
   "metadata": {},
   "outputs": [
    {
     "name": "stdout",
     "output_type": "stream",
     "text": [
      "13.7 µs ± 131 ns per loop (mean ± std. dev. of 7 runs, 100000 loops each)\n"
     ]
    }
   ],
   "source": [
    "%%timeit\n",
    "random.shuffle(array)\n",
    "shell_sort(array)"
   ]
  },
  {
   "cell_type": "markdown",
   "id": "fc937e82-08c3-40eb-ac76-f3ec23203b10",
   "metadata": {},
   "source": [
    "### Hoare's Quicksort Algorithm"
   ]
  },
  {
   "cell_type": "code",
   "execution_count": 58,
   "id": "a785077e-65d3-46c6-a750-fcbb14875216",
   "metadata": {},
   "outputs": [
    {
     "name": "stdout",
     "output_type": "stream",
     "text": [
      "Original Array: [7, 8, 3, 9, 6, 1, 4, 2, 5, 0]\n",
      "Sorted Array [7, 8, 3, 9, 6, 1, 4, 2, 5, 0]:\n"
     ]
    }
   ],
   "source": [
    "size = 10\n",
    "array = [i for i in range(size)]\n",
    "random.shuffle(array)\n",
    "print('Original Array: {}'.format(array))\n",
    "\n",
    "def quickSort(array):\n",
    "    if len(array)<=1:\n",
    "        return array\n",
    "    piwot = random.choice(array)\n",
    "    s_ar =[]\n",
    "    m_ar = []\n",
    "    l_ar = []\n",
    "    for item in array:\n",
    "        if item < piwot:\n",
    "            s_ar.append(item)\n",
    "        elif item > piwot:\n",
    "            l_ar.append(item)\n",
    "        elif item == piwot:\n",
    "            m_ar.append(item)\n",
    "        else:\n",
    "            raise Exeption(\"Something went wrong\")\n",
    "    return quickSort(s_ar) + m_ar + quickSort(l_ar)\n",
    "\n",
    "array_new = quickSort(array)    \n",
    "print('Sorted Array {}:'.format(array))"
   ]
  },
  {
   "cell_type": "code",
   "execution_count": 59,
   "id": "bf9e85a5-164b-4837-b558-920cbb1dfbf7",
   "metadata": {},
   "outputs": [
    {
     "name": "stdout",
     "output_type": "stream",
     "text": [
      "15 µs ± 2.87 µs per loop (mean ± std. dev. of 7 runs, 100000 loops each)\n"
     ]
    }
   ],
   "source": [
    "%%timeit\n",
    "random.shuffle(array)\n",
    "quickSort(array)"
   ]
  },
  {
   "cell_type": "code",
   "execution_count": 60,
   "id": "24ed361d-c594-420c-8f30-c799f22666e3",
   "metadata": {},
   "outputs": [
    {
     "name": "stdout",
     "output_type": "stream",
     "text": [
      "Original Array: [4, 0, 5, 9, 6, 7, 1, 3, 2, 8]\n",
      "Sorted Array [0, 1, 2, 3, 4, 5, 6, 7, 8, 9]:\n"
     ]
    }
   ],
   "source": [
    "size = 10\n",
    "array = [i for i in range(size)]\n",
    "random.shuffle(array)\n",
    "print('Original Array: {}'.format(array))\n",
    "\n",
    "def quickSort_NoMemory(array, fst, lst):\n",
    "    if fst >= lst:\n",
    "        return\n",
    "    piwot = array[random.randint(fst, lst)]\n",
    "    i, j = fst, lst\n",
    "\n",
    "    while i <= j:\n",
    "        \n",
    "        while array[i] < piwot:\n",
    "            i += 1\n",
    "        while array[j] > piwot:\n",
    "            j-= 1\n",
    "        if i <= j:\n",
    "            array[i], array[j] = array[j], array[i]\n",
    "            i, j = i + 1, j - 1\n",
    "            \n",
    "    quickSort_NoMemory(array, fst, j)\n",
    "    quickSort_NoMemory(array, i, lst)\n",
    "\n",
    "quickSort_NoMemory(array, 0, len(array)- 1)\n",
    "print('Sorted Array {}:'.format(array))"
   ]
  },
  {
   "cell_type": "code",
   "execution_count": 61,
   "id": "79acff31-a448-492d-a86b-e0de73788adf",
   "metadata": {},
   "outputs": [
    {
     "name": "stdout",
     "output_type": "stream",
     "text": [
      "19 µs ± 1.11 µs per loop (mean ± std. dev. of 7 runs, 10000 loops each)\n"
     ]
    }
   ],
   "source": [
    "%%timeit\n",
    "random.shuffle(array)\n",
    "quickSort_NoMemory(array, 0, len(array)- 1)"
   ]
  },
  {
   "cell_type": "code",
   "execution_count": null,
   "id": "8753599b-5d0f-45e5-8e91-e8f176d65c77",
   "metadata": {},
   "outputs": [],
   "source": []
  }
 ],
 "metadata": {
  "kernelspec": {
   "display_name": "Python 3",
   "language": "python",
   "name": "python3"
  },
  "language_info": {
   "codemirror_mode": {
    "name": "ipython",
    "version": 3
   },
   "file_extension": ".py",
   "mimetype": "text/x-python",
   "name": "python",
   "nbconvert_exporter": "python",
   "pygments_lexer": "ipython3",
   "version": "3.8.8"
  }
 },
 "nbformat": 4,
 "nbformat_minor": 5
}
